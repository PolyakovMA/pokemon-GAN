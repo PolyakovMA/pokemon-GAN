{
  "cells": [
    {
      "cell_type": "markdown",
      "metadata": {
        "id": "vqbHiDYce--K"
      },
      "source": [
        "For this project we will be using Pokemon dataset. This dataset contains ~40 images per 1,000 Pokémon species, structured in subdirectories for each class. Each image is resized to 128x128 pixels and stored as a PNG file.\n",
        "\n",
        "This dataset is availible here:\n",
        "\n",
        "https://www.kaggle.com/datasets/noodulz/pokemon-dataset-1000/data"
      ]
    },
    {
      "cell_type": "markdown",
      "metadata": {
        "id": "df73wNFee--O"
      },
      "source": [
        "Main objective of  our project"
      ]
    },
    {
      "cell_type": "code",
      "execution_count": 1,
      "metadata": {
        "id": "cSZ5WGr1e--P"
      },
      "outputs": [],
      "source": [
        "import os\n",
        "import torch\n",
        "import torch.nn as nn\n",
        "import torch.optim as optim\n",
        "from torchvision import datasets, transforms\n",
        "from torch.utils.data import DataLoader\n",
        "import matplotlib.pyplot as plt"
      ]
    },
    {
      "cell_type": "code",
      "source": [
        "IMG_SIZE = 128\n",
        "BATCH_SIZE = 64\n",
        "LATENT_DIM = 100\n",
        "EPOCHS = 50\n",
        "DEVICE = \"cuda\" if torch.cuda.is_available() else \"cpu\""
      ],
      "metadata": {
        "id": "i6sHqeC2EKLq"
      },
      "execution_count": 2,
      "outputs": []
    },
    {
      "cell_type": "markdown",
      "metadata": {
        "id": "DpFBJZPOe--Q"
      },
      "source": [
        "Let's begin with the first task - creatig a Convolutional NN for pokemon image classification"
      ]
    },
    {
      "cell_type": "code",
      "execution_count": null,
      "metadata": {
        "id": "LdjO6CnPe--Q"
      },
      "outputs": [],
      "source": [
        "transform = transforms.Compose([\n",
        "    transforms.Resize((IMG_SIZE, IMG_SIZE)),\n",
        "    transforms.ToTensor(),                  #делим на 255 получаем диапазон -> [0, 1]\n",
        "    transforms.Normalize([0.5]*3, [0.5]*3)  # -> [-1, 1]; функция активации в генераторе будет tanh, которая работает с таким диапазоном\n",
        "])"
      ]
    },
    {
      "cell_type": "code",
      "source": [
        "data_dir = \"data/pokemon-dataset-1000/New folder/dataset\"\n",
        "dataset = datasets.ImageFolder(root=data_dir, transform=transform)\n",
        "dataloader = DataLoader(dataset, batch_size=BATCH_SIZE, shuffle=True, num_workers=2)"
      ],
      "metadata": {
        "id": "q1hZuxZ-HpYX"
      },
      "execution_count": null,
      "outputs": []
    },
    {
      "cell_type": "markdown",
      "metadata": {
        "id": "tRQqFyTMe--Q"
      },
      "source": [
        "We will instantiate image generators to process our pokemons. The are three generators for training, testing and validation respectively."
      ]
    },
    {
      "cell_type": "code",
      "source": [
        "class Generator(nn.Module):\n",
        "    def __init__(self, latent_dim):\n",
        "        super(Generator, self).__init__()\n",
        "        self.net = nn.Sequential(\n",
        "            # input: z (batch, latent_dim, 1, 1)\n",
        "            # для каждого изображения из батча формируется 128 карт признаков размером 8х8\n",
        "            nn.ConvTranspose2d(in_channels=latent_dim,\n",
        "                               out_channels=128,\n",
        "                               kernel_size=8,\n",
        "                               stride=1,\n",
        "                               padding=0,\n",
        "                               bias=False), # (128, 8, 8)\n",
        "            nn.BatchNorm2d(128),\n",
        "            nn.ReLU(True),\n",
        "\n",
        "            nn.ConvTranspose2d(in_channels=128,\n",
        "                               out_channels=64,\n",
        "                               kernel_size=4,\n",
        "                               stride=2,\n",
        "                               padding=1,\n",
        "                               bias=False), # (64, 16, 16)\n",
        "            nn.BatchNorm2d(64),\n",
        "            nn.ReLU(True),\n",
        "\n",
        "            nn.ConvTranspose2d(64, 32, 4, 2, 1, bias=False), # (32, 32, 32)\n",
        "            nn.BatchNorm2d(32),\n",
        "            nn.ReLU(True),\n",
        "\n",
        "            nn.ConvTranspose2d(32, 16, 4, 2, 1, bias=False), # (16, 64, 64)\n",
        "            nn.BatchNorm2d(16),\n",
        "            nn.ReLU(True),\n",
        "\n",
        "            nn.ConvTranspose2d(16, 3, 4, 2, 1, bias=False),  # (3, 128, 128)\n",
        "            nn.Tanh()\n",
        "        )\n",
        "\n",
        "    def forward(self, z):\n",
        "        return self.net(z)"
      ],
      "metadata": {
        "id": "nmi8cAJwH9Sf"
      },
      "execution_count": null,
      "outputs": []
    },
    {
      "cell_type": "code",
      "source": [],
      "metadata": {
        "id": "pvTPMkTmH9U4"
      },
      "execution_count": null,
      "outputs": []
    },
    {
      "cell_type": "code",
      "source": [
        "class Discriminator(nn.Module):\n",
        "    def __init__(self):\n",
        "        super(Discriminator, self).__init__()\n",
        "        self.net = nn.Sequential(\n",
        "            nn.Conv2d(in_channels=3,\n",
        "                      out_channels=64,\n",
        "                      kernel_size=4,\n",
        "                      stride=2,\n",
        "                      padding=1,\n",
        "                      bias=False),  # (64, 64, 64)\n",
        "            # не делается batchnorm потому что напермо слое важно сохранить распределение настоящих изображений\n",
        "            nn.LeakyReLU(0.2, inplace=True),\n",
        "\n",
        "\n",
        "            nn.Conv2d(64, 128, 4, 2, 1, bias=False), # (128, 32, 32)\n",
        "            nn.BatchNorm2d(128),\n",
        "            nn.LeakyReLU(0.2, inplace=True),\n",
        "\n",
        "            nn.Conv2d(128, 256, 4, 2, 1, bias=False), # (256, 16, 16)\n",
        "            nn.BatchNorm2d(256),\n",
        "            nn.LeakyReLU(0.2, inplace=True),\n",
        "\n",
        "            nn.Conv2d(256, 512, 4, 2, 1, bias=False), # (512, 8, 8)\n",
        "            nn.BatchNorm2d(512),\n",
        "            nn.LeakyReLU(0.2, inplace=True),\n",
        "\n",
        "            nn.Conv2d(512, 1, 8, 1, 0, bias=False),  # (1, 1, 1)\n",
        "            nn.Sigmoid()\n",
        "        )\n",
        "\n",
        "    def forward(self, img):\n",
        "        return self.net(img).view(-1, 1)"
      ],
      "metadata": {
        "id": "P-iaryhFIRP8"
      },
      "execution_count": null,
      "outputs": []
    },
    {
      "cell_type": "code",
      "source": [
        "def weights_init(m):\n",
        "    classname = m.__class__.__name__\n",
        "    if classname.find(\"Conv\") != -1:\n",
        "        nn.init.normal_(m.weight.data, 0.0, 0.02)\n",
        "    elif classname.find(\"BatchNorm\") != -1:\n",
        "        nn.init.normal_(m.weight.data, 1.0, 0.02)\n",
        "        nn.init.constant_(m.bias.data, 0)"
      ],
      "metadata": {
        "id": "9H0LND1xIRSo"
      },
      "execution_count": null,
      "outputs": []
    },
    {
      "cell_type": "code",
      "source": [],
      "metadata": {
        "id": "iD2KKFvCKyoW"
      },
      "execution_count": null,
      "outputs": []
    },
    {
      "cell_type": "code",
      "source": [
        "generator = Generator(LATENT_DIM).to(DEVICE)\n",
        "discriminator = Discriminator().to(DEVICE)"
      ],
      "metadata": {
        "id": "oEXihp3_Kyq0"
      },
      "execution_count": null,
      "outputs": []
    },
    {
      "cell_type": "code",
      "source": [
        "generator.apply(weights_init)\n",
        "discriminator.apply(weights_init)"
      ],
      "metadata": {
        "id": "mv6VmJGfLVju"
      },
      "execution_count": null,
      "outputs": []
    },
    {
      "cell_type": "code",
      "source": [
        "criterion = nn.BCELoss()\n",
        "optimizer_G = optim.Adam(generator.parameters(), lr=0.0002, betas=(0.5, 0.999))\n",
        "optimizer_D = optim.Adam(discriminator.parameters(), lr=0.0002, betas=(0.5, 0.999))\n",
        "\n",
        "fixed_noise = torch.randn(16, LATENT_DIM, 1, 1, device=DEVICE)"
      ],
      "metadata": {
        "id": "dIIu0JiFLVmW"
      },
      "execution_count": null,
      "outputs": []
    },
    {
      "cell_type": "code",
      "source": [
        "for epoch in range(EPOCHS):\n",
        "    for i, (imgs, _) in enumerate(dataloader):\n",
        "        real_imgs = imgs.to(DEVICE)\n",
        "        batch_size = real_imgs.size(0)\n",
        "\n",
        "        # ------------------\n",
        "        # Обучаем дискриминатор\n",
        "        # ------------------\n",
        "        valid = torch.ones(batch_size, 1, device=DEVICE)\n",
        "        fake = torch.zeros(batch_size, 1, device=DEVICE)\n",
        "\n",
        "        optimizer_D.zero_grad()\n",
        "\n",
        "        real_loss = criterion(discriminator(real_imgs), valid)\n",
        "\n",
        "        z = torch.randn(batch_size, LATENT_DIM, 1, 1, device=DEVICE)\n",
        "        gen_imgs = generator(z)\n",
        "        fake_loss = criterion(discriminator(gen_imgs.detach()), fake)\n",
        "\n",
        "        d_loss = (real_loss + fake_loss) / 2\n",
        "        d_loss.backward()\n",
        "        optimizer_D.step()\n",
        "\n",
        "        # ------------------\n",
        "        # Обучаем генератор\n",
        "        # ------------------\n",
        "        optimizer_G.zero_grad()\n",
        "\n",
        "        g_loss = criterion(discriminator(gen_imgs), valid)\n",
        "        g_loss.backward()\n",
        "        optimizer_G.step()\n",
        "\n",
        "        if i % 100 == 0:\n",
        "            print(f\"[Epoch {epoch}/{EPOCHS}] [Batch {i}/{len(dataloader)}] \"\n",
        "                  f\"[D loss: {d_loss.item():.4f}] [G loss: {g_loss.item():.4f}]\")"
      ],
      "metadata": {
        "id": "wnmDqRQrLZyF"
      },
      "execution_count": null,
      "outputs": []
    },
    {
      "cell_type": "code",
      "source": [
        "with torch.no_grad():\n",
        "        gen_imgs = generator(fixed_noise).cpu()\n",
        "        gen_imgs = (gen_imgs + 1) / 2  # денормализация\n",
        "        plt.figure(figsize=(8, 8))\n",
        "        for k in range(16):\n",
        "            plt.subplot(4, 4, k+1)\n",
        "            plt.imshow(gen_imgs[k].permute(1, 2, 0).numpy())\n",
        "            plt.axis(\"off\")\n",
        "        plt.savefig(f\"generated_epoch_{epoch+1}.png\")\n",
        "        plt.close()"
      ],
      "metadata": {
        "id": "GyHdB4Z5LVo7"
      },
      "execution_count": null,
      "outputs": []
    }
  ],
  "metadata": {
    "kernelspec": {
      "display_name": "Python 3",
      "language": "python",
      "name": "python3"
    },
    "language_info": {
      "codemirror_mode": {
        "name": "ipython",
        "version": 3
      },
      "file_extension": ".py",
      "mimetype": "text/x-python",
      "name": "python",
      "nbconvert_exporter": "python",
      "pygments_lexer": "ipython3",
      "version": "3.12.2"
    },
    "colab": {
      "provenance": []
    }
  },
  "nbformat": 4,
  "nbformat_minor": 0
}